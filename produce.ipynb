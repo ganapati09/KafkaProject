{
 "cells": [
  {
   "cell_type": "code",
   "execution_count": null,
   "id": "01ff9b91-9407-4871-be8b-01ead1915582",
   "metadata": {},
   "outputs": [],
   "source": [
    "from kafka import KafkaProducer\n",
    "import json\n",
    "import time\n",
    "import random\n",
    "\n",
    "\n",
    "def generate_sensor_data(sensor_id):\n",
    "    # Generate random temperature and humidity readings\n",
    "    temperature = round(random.uniform(20, 100), 2)  # Range: 20°C to 30°C\n",
    "    humidity = round(random.uniform(40, 60), 2)  # Range: 40% to 60%\n",
    "\n",
    "    # Generate a timestamp for the data\n",
    "    timestamp = int(time.time())\n",
    "\n",
    "    # Construct the data as a dictionary\n",
    "    sensor_data = {\n",
    "        \"sensor_id\": sensor_id,\n",
    "        \"timestamp\": timestamp,\n",
    "        \"temperature\": temperature,\n",
    "        \"humidity\": humidity\n",
    "    }\n",
    "\n",
    "    return sensor_data\n",
    "\n",
    "\n",
    "if __name__ == \"__main__\":\n",
    "    # Define the number of sensors\n",
    "    num_sensors = 1000\n",
    "\n",
    "    # Kafka configuration\n",
    "    kafka_config = {\n",
    "        'bootstrap_servers': 'localhost:9092'  # Kafka broker(s) address\n",
    "    }\n",
    "\n",
    "    # Create Kafka Producer\n",
    "    producer = KafkaProducer(bootstrap_servers=['localhost:9092'],\n",
    "                             value_serializer=lambda x: json.dumps(x).encode('utf-8'))\n",
    "\n",
    "    try:\n",
    "        while True:\n",
    "            # Generate data for each sensor in a loop\n",
    "            for sensor_id in range(1, num_sensors + 1):\n",
    "                data = generate_sensor_data(sensor_id)\n",
    "                # Produce the data to the Kafka topic\n",
    "                producer.send('stream',value=data)\n",
    "\n",
    "            # Wait for a specified interval (e.g., 5 seconds)\n",
    "            time.sleep(5)\n",
    "\n",
    "    except KeyboardInterrupt:\n",
    "        # Close the Kafka producer upon KeyboardInterrupt\n",
    "        producer.close()\n"
   ]
  },
  {
   "cell_type": "code",
   "execution_count": null,
   "id": "c3d92a92-4159-49c7-b8d3-d67fb3008b11",
   "metadata": {},
   "outputs": [],
   "source": []
  }
 ],
 "metadata": {
  "kernelspec": {
   "display_name": "Python 3 (ipykernel)",
   "language": "python",
   "name": "python3"
  },
  "language_info": {
   "codemirror_mode": {
    "name": "ipython",
    "version": 3
   },
   "file_extension": ".py",
   "mimetype": "text/x-python",
   "name": "python",
   "nbconvert_exporter": "python",
   "pygments_lexer": "ipython3",
   "version": "3.9.13"
  }
 },
 "nbformat": 4,
 "nbformat_minor": 5
}
